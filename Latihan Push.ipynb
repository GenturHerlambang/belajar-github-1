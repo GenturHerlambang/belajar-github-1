{
 "cells": [
  {
   "cell_type": "code",
   "execution_count": 6,
   "metadata": {},
   "outputs": [
    {
     "name": "stdout",
     "output_type": "stream",
     "text": [
      "hallo anjik\n"
     ]
    }
   ],
   "source": [
    "print ('hallo anjik')\n",
    "\n"
   ]
  },
  {
   "cell_type": "code",
   "execution_count": 76,
   "metadata": {},
   "outputs": [
    {
     "name": "stdout",
     "output_type": "stream",
     "text": [
      "31\n",
      "4.166666666666667\n",
      "15\n",
      "31\n"
     ]
    }
   ],
   "source": [
    "x=25\n",
    "y=6\n",
    "z=15\n",
    "u=x+y\n",
    "print(x+y)\n",
    "print (x/y)\n",
    "print(z)\n",
    "print (u)"
   ]
  },
  {
   "cell_type": "code",
   "execution_count": 71,
   "metadata": {},
   "outputs": [
    {
     "name": "stdout",
     "output_type": "stream",
     "text": [
      "50\n",
      "90\n"
     ]
    }
   ],
   "source": [
    "print(x)\n",
    "print(z*y)"
   ]
  },
  {
   "cell_type": "code",
   "execution_count": 51,
   "metadata": {},
   "outputs": [
    {
     "name": "stdout",
     "output_type": "stream",
     "text": [
      "genturherlambang\n"
     ]
    }
   ],
   "source": [
    "nama=('genturherlambang')\n",
    "print (nama)\n"
   ]
  },
  {
   "cell_type": "markdown",
   "metadata": {},
   "source": [
    "tupple\n",
    "## tupple\n"
   ]
  },
  {
   "cell_type": "code",
   "execution_count": 69,
   "metadata": {},
   "outputs": [
    {
     "name": "stdout",
     "output_type": "stream",
     "text": [
      "['motor', 'mobil', 'becak', 'sepeda', 'peswat', 'kereta api']\n",
      "peswat\n",
      "['motor', 'mobil', 'becak', 'jamban', 'peswat', 'kereta api']\n"
     ]
    }
   ],
   "source": [
    "listkendaraan = ['motor', 'mobil','becak', 'sepeda','peswat', 'kereta api']\n",
    "print(listkendaraan)\n",
    "print(listkendaraan[4])\n",
    "listkendaraan[3]= 'jamban'\n",
    "print(listkendaraan)"
   ]
  },
  {
   "cell_type": "code",
   "execution_count": 72,
   "metadata": {},
   "outputs": [
    {
     "name": "stdout",
     "output_type": "stream",
     "text": [
      "['anjing', 'kucing', 'mbak_dina', 'sapi', 'monyet', 'godzilla']\n"
     ]
    }
   ],
   "source": [
    "listbinatang = ['anjing', 'kucing','mbak_dina', 'sapi','monyet', 'godzilla']\n",
    "print(listbinatang)"
   ]
  }
 ],
 "metadata": {
  "kernelspec": {
   "display_name": "Python 3.11.0 64-bit",
   "language": "python",
   "name": "python3"
  },
  "language_info": {
   "codemirror_mode": {
    "name": "ipython",
    "version": 3
   },
   "file_extension": ".py",
   "mimetype": "text/x-python",
   "name": "python",
   "nbconvert_exporter": "python",
   "pygments_lexer": "ipython3",
   "version": "3.11.0"
  },
  "orig_nbformat": 4,
  "vscode": {
   "interpreter": {
    "hash": "0d9b526ae9ca16dcf5f6e38c1826129686c1db41a3497e609d57bbacdeefff6c"
   }
  }
 },
 "nbformat": 4,
 "nbformat_minor": 2
}
